{
 "cells": [
  {
   "cell_type": "markdown",
   "metadata": {},
   "source": [
    "# Learning a cosine with keras"
   ]
  },
  {
   "cell_type": "code",
   "execution_count": 1,
   "metadata": {
    "collapsed": true
   },
   "outputs": [],
   "source": [
    "import os\n",
    "os.environ['THEANO_FLAGS']='mode=FAST_COMPILE,optimizer=None,device=cpu,floatX=float32'"
   ]
  },
  {
   "cell_type": "code",
   "execution_count": 67,
   "metadata": {
    "collapsed": false
   },
   "outputs": [
    {
     "name": "stdout",
     "output_type": "stream",
     "text": [
      "(7500,)\n",
      "(2500,)\n"
     ]
    }
   ],
   "source": [
    "import numpy as np\n",
    "import sklearn.cross_validation as skcv\n",
    "#x = np.linspace(0, 5*np.pi, num=10000, dtype=np.float32)\n",
    "x = np.linspace(0, 4*np.pi, num=10000, dtype=np.float32)\n",
    "y = np.cos(x)\n",
    "x /= 16.0\n",
    "\n",
    "train, test = skcv.train_test_split(np.arange(x.shape[0]))\n",
    "print train.shape\n",
    "print test.shape"
   ]
  },
  {
   "cell_type": "code",
   "execution_count": 68,
   "metadata": {
    "collapsed": false
   },
   "outputs": [
    {
     "data": {
      "text/plain": [
       "[<matplotlib.lines.Line2D at 0x7f03f845cf50>]"
      ]
     },
     "execution_count": 68,
     "metadata": {},
     "output_type": "execute_result"
    },
    {
     "data": {
      "image/png": "[encoded data removed]",
      "text/plain": [
       "<matplotlib.figure.Figure at 0x7f04497e5f50>"
      ]
     },
     "metadata": {},
     "output_type": "display_data"
    }
   ],
   "source": [
    "import pylab as pl\n",
    "%matplotlib inline\n",
    "pl.plot(x, y)"
   ]
  },
  {
   "cell_type": "code",
   "execution_count": 69,
   "metadata": {
    "collapsed": false
   },
   "outputs": [
    {
     "name": "stdout",
     "output_type": "stream",
     "text": [
      "x_train :  0.0 0.785398\n",
      "(7500, 1)\n",
      "y_train :  -1.0 1.0\n",
      "(7500,)\n"
     ]
    }
   ],
   "source": [
    "X_train = x[train].reshape(-1, 1)\n",
    "y_train = y[train]\n",
    "\n",
    "print \"x_train : \", X_train.min(), X_train.max()\n",
    "print X_train.shape\n",
    "print \"y_train : \", y_train.min(), y_train.max()\n",
    "print y_train.shape\n",
    "assert X_train.dtype == np.float32\n",
    "assert y_train.dtype == np.float32"
   ]
  },
  {
   "cell_type": "code",
   "execution_count": 70,
   "metadata": {
    "collapsed": false
   },
   "outputs": [
    {
     "name": "stdout",
     "output_type": "stream",
     "text": [
      "[[-0.62316418]\n",
      " [ 1.24979377]\n",
      " [ 0.13072649]\n",
      " ..., \n",
      " [ 0.39656121]\n",
      " [ 1.50385964]\n",
      " [ 1.48759115]]\n"
     ]
    }
   ],
   "source": [
    "from sklearn.preprocessing import StandardScaler\n",
    "scaler = StandardScaler().fit(X_train)\n",
    "print scaler.transform(X_train)"
   ]
  },
  {
   "cell_type": "code",
   "execution_count": 137,
   "metadata": {
    "collapsed": false
   },
   "outputs": [
    {
     "name": "stdout",
     "output_type": "stream",
     "text": [
      "X_train shape : (7500, 1)\n",
      "input shapes :  [(42, 1)]\n",
      "shape after Dense: (42, 4)\n",
      "shape after Activation: (42, 4)\n",
      "shape after Dense: (42, 1)\n",
      "shape after Activation: (42, 1)\n",
      "[array([[ 0.36306131,  1.50561059, -1.08184421,  1.10758543]], dtype=float32), array([ 0.,  0.,  0.,  0.], dtype=float32), array([[ 0.18666041],\n",
      "       [-0.63225538],\n",
      "       [-0.69284427],\n",
      "       [-0.21309103]], dtype=float32), array([ 0.], dtype=float32)]\n",
      "Epoch 1/5\n",
      "7500/7500 [==============================] - 1s - loss: 0.3184     \n",
      "Epoch 2/5\n",
      "7500/7500 [==============================] - 1s - loss: 0.0120     \n",
      "Epoch 3/5\n",
      "7500/7500 [==============================] - 1s - loss: 0.0069     \n",
      "Epoch 4/5\n",
      "7500/7500 [==============================] - 1s - loss: 0.0065     \n",
      "Epoch 5/5\n",
      "7500/7500 [==============================] - 1s - loss: 0.0064     \n"
     ]
    }
   ],
   "source": [
    "from keras.models import Sequential\n",
    "from keras.layers.core import Dense, Dropout, Activation\n",
    "from keras.optimizers import SGD\n",
    "from keras.utils.layer_utils import print_layer_shapes\n",
    "\n",
    "model = Sequential()\n",
    "model.add(Dense(1, 4, init='lecun_uniform'))\n",
    "model.add(Activation('tanh'))\n",
    "model.add(Dense(4, 1, init='lecun_uniform'))\n",
    "model.add(Activation('tanh'))\n",
    "\n",
    "print \"X_train shape :\", X_train.shape\n",
    "print_layer_shapes(model, input_shapes=(42, ) + X_train.shape[1:])\n",
    "\n",
    "sgd = SGD(lr=0.1, decay=1e-6, momentum=0.9, nesterov=True)\n",
    "model.compile(loss='mean_squared_error', optimizer=sgd)\n",
    "\n",
    "print model.get_weights()\n",
    "history = model.fit(scaler.transform(X_train), y_train, nb_epoch=5, batch_size=64, shuffle=True)"
   ]
  },
  {
   "cell_type": "code",
   "execution_count": 138,
   "metadata": {
    "collapsed": false
   },
   "outputs": [],
   "source": [
    "y_pred = model.predict(scaler.transform(x.reshape(-1, 1)))"
   ]
  },
  {
   "cell_type": "code",
   "execution_count": 139,
   "metadata": {
    "collapsed": false
   },
   "outputs": [
    {
     "data": {
      "text/plain": [
       "[array([[ 1.90693951,  3.03608298, -2.82860422,  1.85954726]], dtype=float32),\n",
       " array([-2.4561851 , -1.49191809, -1.458408  ,  2.3169136 ], dtype=float32),\n",
       " array([[ 2.44517422],\n",
       "        [-2.03872871],\n",
       "        [-2.22366691],\n",
       "        [-2.61412239]], dtype=float32),\n",
       " array([ 2.33407426], dtype=float32)]"
      ]
     },
     "execution_count": 139,
     "metadata": {},
     "output_type": "execute_result"
    }
   ],
   "source": [
    "model.get_weights()"
   ]
  },
  {
   "cell_type": "code",
   "execution_count": 140,
   "metadata": {
    "collapsed": false
   },
   "outputs": [
    {
     "data": {
      "text/plain": [
       "<matplotlib.legend.Legend at 0x7f03f6909ed0>"
      ]
     },
     "execution_count": 140,
     "metadata": {},
     "output_type": "execute_result"
    },
    {
     "data": {
      "image/png": "[encoded data removed]",
      "text/plain": [
       "<matplotlib.figure.Figure at 0x7f03f66f2210>"
      ]
     },
     "metadata": {},
     "output_type": "display_data"
    }
   ],
   "source": [
    "pl.plot(x, y_pred, c='r', label='y_pred')\n",
    "pl.plot(x, y, c='b', label='y')\n",
    "pl.legend()"
   ]
  },
  {
   "cell_type": "markdown",
   "metadata": {},
   "source": [
    "## With random forest"
   ]
  },
  {
   "cell_type": "code",
   "execution_count": 141,
   "metadata": {
    "collapsed": false
   },
   "outputs": [],
   "source": [
    "from sklearn.ensemble import RandomForestRegressor\n",
    "rf = RandomForestRegressor(n_estimators=10, max_depth=10).fit(scaler.transform(X_train), y_train)\n",
    "\n",
    "y_pred_rf = rf.predict(scaler.transform(x.reshape(-1, 1)))"
   ]
  },
  {
   "cell_type": "code",
   "execution_count": 142,
   "metadata": {
    "collapsed": false
   },
   "outputs": [
    {
     "data": {
      "text/plain": [
       "<matplotlib.legend.Legend at 0x7f03f8047690>"
      ]
     },
     "execution_count": 142,
     "metadata": {},
     "output_type": "execute_result"
    },
    {
     "data": {
      "image/png": "[encoded data removed]",
      "text/plain": [
       "<matplotlib.figure.Figure at 0x7f03f6417110>"
      ]
     },
     "metadata": {},
     "output_type": "display_data"
    }
   ],
   "source": [
    "pl.plot(x, y_pred_rf, c='r', label='y_pred')\n",
    "pl.plot(x, y, c='b', label='y')\n",
    "pl.legend()"
   ]
  }
 ],
 "metadata": {
  "kernelspec": {
   "display_name": "Python 2",
   "language": "python",
   "name": "python2"
  },
  "language_info": {
   "codemirror_mode": {
    "name": "ipython",
    "version": 2
   },
   "file_extension": ".py",
   "mimetype": "text/x-python",
   "name": "python",
   "nbconvert_exporter": "python",
   "pygments_lexer": "ipython2",
   "version": "2.7.10"
  }
 },
 "nbformat": 4,
 "nbformat_minor": 0
}
