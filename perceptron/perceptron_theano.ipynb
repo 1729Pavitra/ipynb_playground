{
 "metadata": {
  "name": "",
  "signature": "sha256:752149073f9d5eb7e8f449774db93c6cf2204010c651b9c573aff114199adf53"
 },
 "nbformat": 3,
 "nbformat_minor": 0,
 "worksheets": [
  {
   "cells": [
    {
     "cell_type": "markdown",
     "metadata": {},
     "source": [
      "# Implementing a simple perceptron in python - theano version"
     ]
    },
    {
     "cell_type": "code",
     "collapsed": false,
     "input": [
      "import pylab as pl\n",
      "import numpy as np\n",
      "import matplotlib.cm as cm\n",
      "import sklearn.cross_validation as skcross\n",
      "%matplotlib inline\n",
      "\n",
      "np.set_printoptions(precision=5, suppress=True)"
     ],
     "language": "python",
     "metadata": {},
     "outputs": [],
     "prompt_number": 1
    },
    {
     "cell_type": "markdown",
     "metadata": {},
     "source": [
      "## Very quick introduction to theano\n",
      "\n",
      "[Theano](http://www.deeplearning.net/software/theano/) is basically a code generator that compiles mathematical expressions into computer code.\n",
      "\n",
      "The basic idea to keep in mind is that when using Theano, you work with *symbolic* variables, like you do when you write mathematical expressions. It is only when you call *theano.function* that code\n",
      "(GPU code if you target the GPU, numpy code if you target the CPU) gets generated to compute your function."
     ]
    },
    {
     "cell_type": "code",
     "collapsed": false,
     "input": [
      "# Note that this require a kernel restart to be effective\n",
      "import os\n",
      "#os.environ['THEANO_FLAGS'] = 'device=cpu'\n",
      "os.environ['THEANO_FLAGS'] = 'device=gpu'"
     ],
     "language": "python",
     "metadata": {},
     "outputs": [],
     "prompt_number": 2
    },
    {
     "cell_type": "code",
     "collapsed": false,
     "input": [
      "import theano.tensor as T\n",
      "import theano\n",
      "import tempfile\n",
      "import pydot\n",
      "from IPython.display import SVG\n",
      "from IPython.display import display\n",
      "\n",
      "print 'device : ', theano.config.device"
     ],
     "language": "python",
     "metadata": {},
     "outputs": [
      {
       "output_type": "stream",
       "stream": "stdout",
       "text": [
        "device :  gpu\n"
       ]
      },
      {
       "output_type": "stream",
       "stream": "stderr",
       "text": [
        "Using gpu device 0: Tesla M2075\n"
       ]
      }
     ],
     "prompt_number": 3
    },
    {
     "cell_type": "code",
     "collapsed": false,
     "input": [
      "def show_computation_graph(fn):\n",
      "    \"\"\"\n",
      "    Wrapper around theano.printing.pydotprint that show the computation graph\n",
      "    for a given theano function\n",
      "    Args:\n",
      "        fn: the function for which to show the computation graph\n",
      "        \n",
      "    This requires pydot and graphviz\n",
      "    \"\"\"\n",
      "    display(SVG(theano.printing.pydotprint(fn, return_image=True, format='svg')))"
     ],
     "language": "python",
     "metadata": {},
     "outputs": [],
     "prompt_number": 4
    },
    {
     "cell_type": "markdown",
     "metadata": {},
     "source": [
      "We will start with simple theano expressions"
     ]
    },
    {
     "cell_type": "markdown",
     "metadata": {},
     "source": [
      "### a*x + b"
     ]
    },
    {
     "cell_type": "code",
     "collapsed": false,
     "input": [
      "a = T.scalar('a', dtype='float32')\n",
      "b = T.scalar('b', dtype='float32')\n",
      "x = T.scalar('x', dtype='float32')\n",
      "\n",
      "res = a*x + b\n",
      "\n",
      "# compile the function for our target device (GPU or CPU)\n",
      "res_f = theano.function(inputs=[a, b, x], outputs=res)\n",
      "\n",
      "print res_f(a=2, b=3, x=5)\n",
      "\n",
      "show_computation_graph(res_f)"
     ],
     "language": "python",
     "metadata": {},
     "outputs": [
      {
       "output_type": "stream",
       "stream": "stdout",
       "text": [
        "13.0\n"
       ]
      },
      {
       "metadata": {},
       "output_type": "display_data",
       "svg": [
        "<svg height=\"418pt\" viewBox=\"0.00 0.00 766.00 418.00\" width=\"766pt\" xmlns=\"http://www.w3.org/2000/svg\" xmlns:xlink=\"http://www.w3.org/1999/xlink\">\n",
        "<g class=\"graph\" id=\"graph1\" transform=\"scale(1 1) rotate(0) translate(4 414)\">\n",
        "<title>G</title>\n",
        "<polygon fill=\"white\" points=\"-4,5 -4,-414 763,-414 763,5 -4,5\" stroke=\"white\"/>\n",
        "<!-- GpuFromHost -->\n",
        "<g class=\"node\" id=\"node1\"><title>GpuFromHost</title>\n",
        "<ellipse cx=\"573\" cy=\"-299\" fill=\"red\" rx=\"67.1751\" ry=\"19.0919\" stroke=\"black\"/>\n",
        "<text font-family=\"Times Roman,serif\" font-size=\"14.00\" text-anchor=\"middle\" x=\"573\" y=\"-295.9\">GpuFromHost</text>\n",
        "</g>\n",
        "<!-- GpuElemwise{Composite{((i0 * i1) + i2)}}[(0, 0)] -->\n",
        "<g class=\"node\" id=\"node10\"><title>GpuElemwise{Composite{((i0 * i1) + i2)}}[(0, 0)]</title>\n",
        "<ellipse cx=\"342\" cy=\"-205\" fill=\"#ffaabb\" rx=\"210.925\" ry=\"19.0919\" stroke=\"black\"/>\n",
        "<text font-family=\"Times Roman,serif\" font-size=\"14.00\" text-anchor=\"middle\" x=\"342\" y=\"-201.9\">GpuElemwise{Composite{((i0 * i1) + i2)}}[(0, 0)]</text>\n",
        "</g>\n",
        "<!-- GpuFromHost&#45;&gt;GpuElemwise{Composite{((i0 * i1) + i2)}}[(0, 0)] -->\n",
        "<g class=\"edge\" id=\"edge12\"><title>GpuFromHost-&gt;GpuElemwise{Composite{((i0 * i1) + i2)}}[(0, 0)]</title>\n",
        "<path d=\"M568.118,-279.945C563.859,-267.236 556.373,-251.225 544,-242 532.894,-233.72 509.919,-227.058 483.303,-221.794\" fill=\"none\" stroke=\"black\"/>\n",
        "<polygon fill=\"black\" points=\"483.823,-218.33 473.348,-219.917 482.526,-225.209 483.823,-218.33\" stroke=\"black\"/>\n",
        "<text font-family=\"Times Roman,serif\" font-size=\"14.00\" text-anchor=\"middle\" x=\"659\" y=\"-248.9\">2 CudaNdarrayType(float32, scalar)</text>\n",
        "</g>\n",
        "<!-- name=b TensorType(float32, scalar) -->\n",
        "<g class=\"node\" id=\"node2\"><title>name=b TensorType(float32, scalar)</title>\n",
        "<polygon fill=\"green\" points=\"684,-410 468,-410 468,-374 684,-374 684,-410\" stroke=\"black\"/>\n",
        "<text font-family=\"Times Roman,serif\" font-size=\"14.00\" text-anchor=\"middle\" x=\"576\" y=\"-388.9\">name=b TensorType(float32, scalar)</text>\n",
        "</g>\n",
        "<!-- name=b TensorType(float32, scalar)&#45;&gt;GpuFromHost -->\n",
        "<g class=\"edge\" id=\"edge2\"><title>name=b TensorType(float32, scalar)-&gt;GpuFromHost</title>\n",
        "<path d=\"M575.407,-373.626C574.992,-360.762 574.429,-343.298 573.952,-328.498\" fill=\"none\" stroke=\"black\"/>\n",
        "<polygon fill=\"black\" points=\"577.443,-328.178 573.622,-318.296 570.447,-328.404 577.443,-328.178\" stroke=\"black\"/>\n",
        "<text font-family=\"Times Roman,serif\" font-size=\"14.00\" text-anchor=\"middle\" x=\"650\" y=\"-342.9\">TensorType(float32, scalar)</text>\n",
        "</g>\n",
        "<!-- GpuFromHost id=1 -->\n",
        "<g class=\"node\" id=\"node4\"><title>GpuFromHost id=1</title>\n",
        "<ellipse cx=\"112\" cy=\"-299\" fill=\"red\" rx=\"87.889\" ry=\"19.0919\" stroke=\"black\"/>\n",
        "<text font-family=\"Times Roman,serif\" font-size=\"14.00\" text-anchor=\"middle\" x=\"112\" y=\"-295.9\">GpuFromHost id=1</text>\n",
        "</g>\n",
        "<!-- GpuFromHost id=1&#45;&gt;GpuElemwise{Composite{((i0 * i1) + i2)}}[(0, 0)] -->\n",
        "<g class=\"edge\" id=\"edge10\"><title>GpuFromHost id=1-&gt;GpuElemwise{Composite{((i0 * i1) + i2)}}[(0, 0)]</title>\n",
        "<path d=\"M116.541,-279.959C120.574,-267.256 127.778,-251.246 140,-242 151.015,-233.666 173.868,-226.988 200.383,-221.726\" fill=\"none\" stroke=\"black\"/>\n",
        "<polygon fill=\"black\" points=\"201.127,-225.147 210.303,-219.851 199.827,-218.269 201.127,-225.147\" stroke=\"black\"/>\n",
        "<text font-family=\"Times Roman,serif\" font-size=\"14.00\" text-anchor=\"middle\" x=\"239\" y=\"-248.9\">1 CudaNdarrayType(float32, scalar)</text>\n",
        "</g>\n",
        "<!-- name=x TensorType(float32, scalar) -->\n",
        "<g class=\"node\" id=\"node5\"><title>name=x TensorType(float32, scalar)</title>\n",
        "<polygon fill=\"green\" points=\"216,-410 9.9476e-14,-410 0,-374 216,-374 216,-410\" stroke=\"black\"/>\n",
        "<text font-family=\"Times Roman,serif\" font-size=\"14.00\" text-anchor=\"middle\" x=\"108\" y=\"-388.9\">name=x TensorType(float32, scalar)</text>\n",
        "</g>\n",
        "<!-- name=x TensorType(float32, scalar)&#45;&gt;GpuFromHost id=1 -->\n",
        "<g class=\"edge\" id=\"edge4\"><title>name=x TensorType(float32, scalar)-&gt;GpuFromHost id=1</title>\n",
        "<path d=\"M108.79,-373.626C109.344,-360.762 110.095,-343.298 110.731,-328.498\" fill=\"none\" stroke=\"black\"/>\n",
        "<polygon fill=\"black\" points=\"114.237,-328.437 111.17,-318.296 107.243,-328.136 114.237,-328.437\" stroke=\"black\"/>\n",
        "<text font-family=\"Times Roman,serif\" font-size=\"14.00\" text-anchor=\"middle\" x=\"187\" y=\"-342.9\">TensorType(float32, scalar)</text>\n",
        "</g>\n",
        "<!-- GpuFromHost id=2 -->\n",
        "<g class=\"node\" id=\"node7\"><title>GpuFromHost id=2</title>\n",
        "<ellipse cx=\"342\" cy=\"-299\" fill=\"red\" rx=\"87.889\" ry=\"19.0919\" stroke=\"black\"/>\n",
        "<text font-family=\"Times Roman,serif\" font-size=\"14.00\" text-anchor=\"middle\" x=\"342\" y=\"-295.9\">GpuFromHost id=2</text>\n",
        "</g>\n",
        "<!-- GpuFromHost id=2&#45;&gt;GpuElemwise{Composite{((i0 * i1) + i2)}}[(0, 0)] -->\n",
        "<g class=\"edge\" id=\"edge8\"><title>GpuFromHost id=2-&gt;GpuElemwise{Composite{((i0 * i1) + i2)}}[(0, 0)]</title>\n",
        "<path d=\"M342,-279.978C342,-266.941 342,-249.388 342,-234.544\" fill=\"none\" stroke=\"red\"/>\n",
        "<polygon fill=\"red\" points=\"345.5,-234.317 342,-224.317 338.5,-234.317 345.5,-234.317\" stroke=\"red\"/>\n",
        "<text font-family=\"Times Roman,serif\" font-size=\"14.00\" text-anchor=\"middle\" x=\"441\" y=\"-248.9\">0 CudaNdarrayType(float32, scalar)</text>\n",
        "</g>\n",
        "<!-- name=a TensorType(float32, scalar) -->\n",
        "<g class=\"node\" id=\"node8\"><title>name=a TensorType(float32, scalar)</title>\n",
        "<polygon fill=\"green\" points=\"450,-410 234,-410 234,-374 450,-374 450,-410\" stroke=\"black\"/>\n",
        "<text font-family=\"Times Roman,serif\" font-size=\"14.00\" text-anchor=\"middle\" x=\"342\" y=\"-388.9\">name=a TensorType(float32, scalar)</text>\n",
        "</g>\n",
        "<!-- name=a TensorType(float32, scalar)&#45;&gt;GpuFromHost id=2 -->\n",
        "<g class=\"edge\" id=\"edge6\"><title>name=a TensorType(float32, scalar)-&gt;GpuFromHost id=2</title>\n",
        "<path d=\"M342,-373.626C342,-360.762 342,-343.298 342,-328.498\" fill=\"none\" stroke=\"black\"/>\n",
        "<polygon fill=\"black\" points=\"345.5,-328.296 342,-318.296 338.5,-328.296 345.5,-328.296\" stroke=\"black\"/>\n",
        "<text font-family=\"Times Roman,serif\" font-size=\"14.00\" text-anchor=\"middle\" x=\"418\" y=\"-342.9\">TensorType(float32, scalar)</text>\n",
        "</g>\n",
        "<!-- HostFromGpu -->\n",
        "<g class=\"node\" id=\"node14\"><title>HostFromGpu</title>\n",
        "<ellipse cx=\"342\" cy=\"-111\" fill=\"red\" rx=\"67.1751\" ry=\"19.0919\" stroke=\"black\"/>\n",
        "<text font-family=\"Times Roman,serif\" font-size=\"14.00\" text-anchor=\"middle\" x=\"342\" y=\"-107.9\">HostFromGpu</text>\n",
        "</g>\n",
        "<!-- GpuElemwise{Composite{((i0 * i1) + i2)}}[(0, 0)]&#45;&gt;HostFromGpu -->\n",
        "<g class=\"edge\" id=\"edge14\"><title>GpuElemwise{Composite{((i0 * i1) + i2)}}[(0, 0)]-&gt;HostFromGpu</title>\n",
        "<path d=\"M342,-185.978C342,-172.941 342,-155.388 342,-140.544\" fill=\"none\" stroke=\"black\"/>\n",
        "<polygon fill=\"black\" points=\"345.5,-140.317 342,-130.317 338.5,-140.317 345.5,-140.317\" stroke=\"black\"/>\n",
        "<text font-family=\"Times Roman,serif\" font-size=\"14.00\" text-anchor=\"middle\" x=\"435.5\" y=\"-154.9\">CudaNdarrayType(float32, scalar)</text>\n",
        "</g>\n",
        "<!-- TensorType(float32, scalar) -->\n",
        "<g class=\"node\" id=\"node17\"><title>TensorType(float32, scalar)</title>\n",
        "<polygon fill=\"blue\" points=\"426,-36 258,-36 258,-1.77636e-14 426,-3.55271e-15 426,-36\" stroke=\"black\"/>\n",
        "<text font-family=\"Times Roman,serif\" font-size=\"14.00\" text-anchor=\"middle\" x=\"342\" y=\"-14.9\">TensorType(float32, scalar)</text>\n",
        "</g>\n",
        "<!-- HostFromGpu&#45;&gt;TensorType(float32, scalar) -->\n",
        "<g class=\"edge\" id=\"edge16\"><title>HostFromGpu-&gt;TensorType(float32, scalar)</title>\n",
        "<path d=\"M342,-91.7303C342,-78.6298 342,-61.0769 342,-46.3842\" fill=\"none\" stroke=\"black\"/>\n",
        "<polygon fill=\"black\" points=\"345.5,-46.2957 342,-36.2958 338.5,-46.2958 345.5,-46.2957\" stroke=\"black\"/>\n",
        "<text font-family=\"Times Roman,serif\" font-size=\"14.00\" text-anchor=\"middle\" x=\"418\" y=\"-60.9\">TensorType(float32, scalar)</text>\n",
        "</g>\n",
        "</g>\n",
        "</svg>"
       ],
       "text": [
        "<IPython.core.display.SVG at 0x7f97d73a9950>"
       ]
      }
     ],
     "prompt_number": 5
    },
    {
     "cell_type": "markdown",
     "metadata": {},
     "source": [
      "### sigmoid(x)"
     ]
    },
    {
     "cell_type": "code",
     "collapsed": false,
     "input": [
      "x = T.scalar('x', dtype='float32')\n",
      "sigmoid_x = T.nnet.sigmoid(x)\n",
      "f_x = theano.function(inputs=[x], outputs=sigmoid_x)"
     ],
     "language": "python",
     "metadata": {},
     "outputs": [],
     "prompt_number": 6
    },
    {
     "cell_type": "code",
     "collapsed": false,
     "input": [
      "f_x(1)"
     ],
     "language": "python",
     "metadata": {},
     "outputs": [
      {
       "metadata": {},
       "output_type": "pyout",
       "prompt_number": 7,
       "text": [
        "array(0.7310585975646973, dtype=float32)"
       ]
      }
     ],
     "prompt_number": 7
    },
    {
     "cell_type": "code",
     "collapsed": false,
     "input": [
      "xvals = np.linspace(-6, 6, num=50, dtype=np.float32)\n",
      "yvals = [f_x(v) for v in xvals]\n",
      "pl.plot(xvals, yvals)"
     ],
     "language": "python",
     "metadata": {},
     "outputs": [
      {
       "metadata": {},
       "output_type": "pyout",
       "prompt_number": 8,
       "text": [
        "[<matplotlib.lines.Line2D at 0x7f97d7350310>]"
       ]
      },
      {
       "metadata": {},
       "output_type": "display_data",
       "png": "[encoded data removed]",
       "text": [
        "<matplotlib.figure.Figure at 0x7f97d7016e50>"
       ]
      }
     ],
     "prompt_number": 8
    },
    {
     "cell_type": "code",
     "collapsed": false,
     "input": [
      "show_computation_graph(f_x)"
     ],
     "language": "python",
     "metadata": {},
     "outputs": [
      {
       "metadata": {},
       "output_type": "display_data",
       "svg": [
        "<svg height=\"418pt\" viewBox=\"0.00 0.00 355.00 418.00\" width=\"355pt\" xmlns=\"http://www.w3.org/2000/svg\" xmlns:xlink=\"http://www.w3.org/1999/xlink\">\n",
        "<g class=\"graph\" id=\"graph1\" transform=\"scale(1 1) rotate(0) translate(4 414)\">\n",
        "<title>G</title>\n",
        "<polygon fill=\"white\" points=\"-4,5 -4,-414 352,-414 352,5 -4,5\" stroke=\"white\"/>\n",
        "<!-- GpuFromHost -->\n",
        "<g class=\"node\" id=\"node1\"><title>GpuFromHost</title>\n",
        "<ellipse cx=\"160\" cy=\"-299\" fill=\"red\" rx=\"67.1751\" ry=\"19.0919\" stroke=\"black\"/>\n",
        "<text font-family=\"Times Roman,serif\" font-size=\"14.00\" text-anchor=\"middle\" x=\"160\" y=\"-295.9\">GpuFromHost</text>\n",
        "</g>\n",
        "<!-- GpuElemwise{ScalarSigmoid}[(0, 0)] -->\n",
        "<g class=\"node\" id=\"node4\"><title>GpuElemwise{ScalarSigmoid}[(0, 0)]</title>\n",
        "<ellipse cx=\"160\" cy=\"-205\" fill=\"#ffaabb\" rx=\"160.013\" ry=\"19.0919\" stroke=\"black\"/>\n",
        "<text font-family=\"Times Roman,serif\" font-size=\"14.00\" text-anchor=\"middle\" x=\"160\" y=\"-201.9\">GpuElemwise{ScalarSigmoid}[(0, 0)]</text>\n",
        "</g>\n",
        "<!-- GpuFromHost&#45;&gt;GpuElemwise{ScalarSigmoid}[(0, 0)] -->\n",
        "<g class=\"edge\" id=\"edge4\"><title>GpuFromHost-&gt;GpuElemwise{ScalarSigmoid}[(0, 0)]</title>\n",
        "<path d=\"M160,-279.978C160,-266.941 160,-249.388 160,-234.544\" fill=\"none\" stroke=\"red\"/>\n",
        "<polygon fill=\"red\" points=\"163.5,-234.317 160,-224.317 156.5,-234.317 163.5,-234.317\" stroke=\"red\"/>\n",
        "<text font-family=\"Times Roman,serif\" font-size=\"14.00\" text-anchor=\"middle\" x=\"253.5\" y=\"-248.9\">CudaNdarrayType(float32, scalar)</text>\n",
        "</g>\n",
        "<!-- name=x TensorType(float32, scalar) -->\n",
        "<g class=\"node\" id=\"node2\"><title>name=x TensorType(float32, scalar)</title>\n",
        "<polygon fill=\"green\" points=\"268,-410 52,-410 52,-374 268,-374 268,-410\" stroke=\"black\"/>\n",
        "<text font-family=\"Times Roman,serif\" font-size=\"14.00\" text-anchor=\"middle\" x=\"160\" y=\"-388.9\">name=x TensorType(float32, scalar)</text>\n",
        "</g>\n",
        "<!-- name=x TensorType(float32, scalar)&#45;&gt;GpuFromHost -->\n",
        "<g class=\"edge\" id=\"edge2\"><title>name=x TensorType(float32, scalar)-&gt;GpuFromHost</title>\n",
        "<path d=\"M160,-373.626C160,-360.762 160,-343.298 160,-328.498\" fill=\"none\" stroke=\"black\"/>\n",
        "<polygon fill=\"black\" points=\"163.5,-328.296 160,-318.296 156.5,-328.296 163.5,-328.296\" stroke=\"black\"/>\n",
        "<text font-family=\"Times Roman,serif\" font-size=\"14.00\" text-anchor=\"middle\" x=\"236\" y=\"-342.9\">TensorType(float32, scalar)</text>\n",
        "</g>\n",
        "<!-- HostFromGpu -->\n",
        "<g class=\"node\" id=\"node6\"><title>HostFromGpu</title>\n",
        "<ellipse cx=\"160\" cy=\"-111\" fill=\"red\" rx=\"67.1751\" ry=\"19.0919\" stroke=\"black\"/>\n",
        "<text font-family=\"Times Roman,serif\" font-size=\"14.00\" text-anchor=\"middle\" x=\"160\" y=\"-107.9\">HostFromGpu</text>\n",
        "</g>\n",
        "<!-- GpuElemwise{ScalarSigmoid}[(0, 0)]&#45;&gt;HostFromGpu -->\n",
        "<g class=\"edge\" id=\"edge6\"><title>GpuElemwise{ScalarSigmoid}[(0, 0)]-&gt;HostFromGpu</title>\n",
        "<path d=\"M160,-185.978C160,-172.941 160,-155.388 160,-140.544\" fill=\"none\" stroke=\"black\"/>\n",
        "<polygon fill=\"black\" points=\"163.5,-140.317 160,-130.317 156.5,-140.317 163.5,-140.317\" stroke=\"black\"/>\n",
        "<text font-family=\"Times Roman,serif\" font-size=\"14.00\" text-anchor=\"middle\" x=\"253.5\" y=\"-154.9\">CudaNdarrayType(float32, scalar)</text>\n",
        "</g>\n",
        "<!-- TensorType(float32, scalar) -->\n",
        "<g class=\"node\" id=\"node9\"><title>TensorType(float32, scalar)</title>\n",
        "<polygon fill=\"blue\" points=\"244,-36 76,-36 76,-1.77636e-14 244,-3.55271e-15 244,-36\" stroke=\"black\"/>\n",
        "<text font-family=\"Times Roman,serif\" font-size=\"14.00\" text-anchor=\"middle\" x=\"160\" y=\"-14.9\">TensorType(float32, scalar)</text>\n",
        "</g>\n",
        "<!-- HostFromGpu&#45;&gt;TensorType(float32, scalar) -->\n",
        "<g class=\"edge\" id=\"edge8\"><title>HostFromGpu-&gt;TensorType(float32, scalar)</title>\n",
        "<path d=\"M160,-91.7303C160,-78.6298 160,-61.0769 160,-46.3842\" fill=\"none\" stroke=\"black\"/>\n",
        "<polygon fill=\"black\" points=\"163.5,-46.2957 160,-36.2958 156.5,-46.2958 163.5,-46.2957\" stroke=\"black\"/>\n",
        "<text font-family=\"Times Roman,serif\" font-size=\"14.00\" text-anchor=\"middle\" x=\"236\" y=\"-60.9\">TensorType(float32, scalar)</text>\n",
        "</g>\n",
        "</g>\n",
        "</svg>"
       ],
       "text": [
        "<IPython.core.display.SVG at 0x7f97d7016c90>"
       ]
      }
     ],
     "prompt_number": 9
    },
    {
     "cell_type": "markdown",
     "metadata": {},
     "source": [
      "#### Same thing but x is a vector\n",
      "\n",
      "Using a vector for x lets us compute the sigmoid of a vector of values instead of doing it\n",
      "one-by-one"
     ]
    },
    {
     "cell_type": "code",
     "collapsed": false,
     "input": [
      "x = T.vector('x', dtype='float32')\n",
      "sigmoid_x = T.nnet.sigmoid(x)\n",
      "f_x = theano.function(inputs=[x], outputs=sigmoid_x)\n",
      "# without a for\n",
      "yvals = f_x(xvals)\n",
      "pl.plot(xvals, yvals)"
     ],
     "language": "python",
     "metadata": {},
     "outputs": [
      {
       "metadata": {},
       "output_type": "pyout",
       "prompt_number": 10,
       "text": [
        "[<matplotlib.lines.Line2D at 0x7f97d6b19090>]"
       ]
      },
      {
       "metadata": {},
       "output_type": "display_data",
       "png": "[encoded data removed]",
       "text": [
        "<matplotlib.figure.Figure at 0x7f97d72b6150>"
       ]
      }
     ],
     "prompt_number": 10
    },
    {
     "cell_type": "code",
     "collapsed": false,
     "input": [
      "show_computation_graph(f_x)"
     ],
     "language": "python",
     "metadata": {},
     "outputs": [
      {
       "metadata": {},
       "output_type": "display_data",
       "svg": [
        "<svg height=\"418pt\" viewBox=\"0.00 0.00 358.00 418.00\" width=\"358pt\" xmlns=\"http://www.w3.org/2000/svg\" xmlns:xlink=\"http://www.w3.org/1999/xlink\">\n",
        "<g class=\"graph\" id=\"graph1\" transform=\"scale(1 1) rotate(0) translate(4 414)\">\n",
        "<title>G</title>\n",
        "<polygon fill=\"white\" points=\"-4,5 -4,-414 355,-414 355,5 -4,5\" stroke=\"white\"/>\n",
        "<!-- GpuFromHost -->\n",
        "<g class=\"node\" id=\"node1\"><title>GpuFromHost</title>\n",
        "<ellipse cx=\"160\" cy=\"-299\" fill=\"red\" rx=\"67.1751\" ry=\"19.0919\" stroke=\"black\"/>\n",
        "<text font-family=\"Times Roman,serif\" font-size=\"14.00\" text-anchor=\"middle\" x=\"160\" y=\"-295.9\">GpuFromHost</text>\n",
        "</g>\n",
        "<!-- GpuElemwise{ScalarSigmoid}[(0, 0)] -->\n",
        "<g class=\"node\" id=\"node4\"><title>GpuElemwise{ScalarSigmoid}[(0, 0)]</title>\n",
        "<ellipse cx=\"160\" cy=\"-205\" fill=\"#ffaabb\" rx=\"160.013\" ry=\"19.0919\" stroke=\"black\"/>\n",
        "<text font-family=\"Times Roman,serif\" font-size=\"14.00\" text-anchor=\"middle\" x=\"160\" y=\"-201.9\">GpuElemwise{ScalarSigmoid}[(0, 0)]</text>\n",
        "</g>\n",
        "<!-- GpuFromHost&#45;&gt;GpuElemwise{ScalarSigmoid}[(0, 0)] -->\n",
        "<g class=\"edge\" id=\"edge4\"><title>GpuFromHost-&gt;GpuElemwise{ScalarSigmoid}[(0, 0)]</title>\n",
        "<path d=\"M160,-279.978C160,-266.941 160,-249.388 160,-234.544\" fill=\"none\" stroke=\"red\"/>\n",
        "<polygon fill=\"red\" points=\"163.5,-234.317 160,-224.317 156.5,-234.317 163.5,-234.317\" stroke=\"red\"/>\n",
        "<text font-family=\"Times Roman,serif\" font-size=\"14.00\" text-anchor=\"middle\" x=\"255\" y=\"-248.9\">CudaNdarrayType(float32, vector)</text>\n",
        "</g>\n",
        "<!-- name=x TensorType(float32, vector) -->\n",
        "<g class=\"node\" id=\"node2\"><title>name=x TensorType(float32, vector)</title>\n",
        "<polygon fill=\"green\" points=\"269,-410 51,-410 51,-374 269,-374 269,-410\" stroke=\"black\"/>\n",
        "<text font-family=\"Times Roman,serif\" font-size=\"14.00\" text-anchor=\"middle\" x=\"160\" y=\"-388.9\">name=x TensorType(float32, vector)</text>\n",
        "</g>\n",
        "<!-- name=x TensorType(float32, vector)&#45;&gt;GpuFromHost -->\n",
        "<g class=\"edge\" id=\"edge2\"><title>name=x TensorType(float32, vector)-&gt;GpuFromHost</title>\n",
        "<path d=\"M160,-373.626C160,-360.762 160,-343.298 160,-328.498\" fill=\"none\" stroke=\"black\"/>\n",
        "<polygon fill=\"black\" points=\"163.5,-328.296 160,-318.296 156.5,-328.296 163.5,-328.296\" stroke=\"black\"/>\n",
        "<text font-family=\"Times Roman,serif\" font-size=\"14.00\" text-anchor=\"middle\" x=\"237\" y=\"-342.9\">TensorType(float32, vector)</text>\n",
        "</g>\n",
        "<!-- HostFromGpu -->\n",
        "<g class=\"node\" id=\"node6\"><title>HostFromGpu</title>\n",
        "<ellipse cx=\"160\" cy=\"-111\" fill=\"red\" rx=\"67.1751\" ry=\"19.0919\" stroke=\"black\"/>\n",
        "<text font-family=\"Times Roman,serif\" font-size=\"14.00\" text-anchor=\"middle\" x=\"160\" y=\"-107.9\">HostFromGpu</text>\n",
        "</g>\n",
        "<!-- GpuElemwise{ScalarSigmoid}[(0, 0)]&#45;&gt;HostFromGpu -->\n",
        "<g class=\"edge\" id=\"edge6\"><title>GpuElemwise{ScalarSigmoid}[(0, 0)]-&gt;HostFromGpu</title>\n",
        "<path d=\"M160,-185.978C160,-172.941 160,-155.388 160,-140.544\" fill=\"none\" stroke=\"black\"/>\n",
        "<polygon fill=\"black\" points=\"163.5,-140.317 160,-130.317 156.5,-140.317 163.5,-140.317\" stroke=\"black\"/>\n",
        "<text font-family=\"Times Roman,serif\" font-size=\"14.00\" text-anchor=\"middle\" x=\"255\" y=\"-154.9\">CudaNdarrayType(float32, vector)</text>\n",
        "</g>\n",
        "<!-- TensorType(float32, vector) -->\n",
        "<g class=\"node\" id=\"node9\"><title>TensorType(float32, vector)</title>\n",
        "<polygon fill=\"blue\" points=\"245,-36 75,-36 75,-1.77636e-14 245,-3.55271e-15 245,-36\" stroke=\"black\"/>\n",
        "<text font-family=\"Times Roman,serif\" font-size=\"14.00\" text-anchor=\"middle\" x=\"160\" y=\"-14.9\">TensorType(float32, vector)</text>\n",
        "</g>\n",
        "<!-- HostFromGpu&#45;&gt;TensorType(float32, vector) -->\n",
        "<g class=\"edge\" id=\"edge8\"><title>HostFromGpu-&gt;TensorType(float32, vector)</title>\n",
        "<path d=\"M160,-91.7303C160,-78.6298 160,-61.0769 160,-46.3842\" fill=\"none\" stroke=\"black\"/>\n",
        "<polygon fill=\"black\" points=\"163.5,-46.2957 160,-36.2958 156.5,-46.2958 163.5,-46.2957\" stroke=\"black\"/>\n",
        "<text font-family=\"Times Roman,serif\" font-size=\"14.00\" text-anchor=\"middle\" x=\"237\" y=\"-60.9\">TensorType(float32, vector)</text>\n",
        "</g>\n",
        "</g>\n",
        "</svg>"
       ],
       "text": [
        "<IPython.core.display.SVG at 0x7f97d6d593d0>"
       ]
      }
     ],
     "prompt_number": 11
    },
    {
     "cell_type": "markdown",
     "metadata": {},
     "source": [
      "## Perceptron implementation\n",
      "\n",
      "We build a perceptron with a sigmoid activation function. That is\n",
      "\n",
      "$$o_i = sigmoid(W*x_i + b)$$\n",
      "\n",
      "Where $sigmoid(x) = \\frac{1}{1 + e^{-x}}$\n",
      "\n",
      "The error is simply ($y_i$ being the expected output value)\n",
      "\n",
      "$$e_i = (y_i - o_i)^2$$\n",
      "\n",
      "We train the network with minibatch SGD. That is, at each epoch, we compute the average gradient over a bunch of examples as opposed to a single one.\n",
      "\n",
      "$$W^{t+1} = W^t - \\eta \\frac{\\partial e_i}{\\partial W}$$\n",
      "$$b^{t+1} = b^t - \\eta \\frac{\\partial e_i}{\\partial b}$$\n",
      "\n",
      "Where $\\eta$ is the learning rate."
     ]
    },
    {
     "cell_type": "markdown",
     "metadata": {},
     "source": [
      "### Error function derivative\n",
      "\n",
      "Note that if we add an entry set to 1 at the end of the x vector, we can transform our $Wx + b$ into $W\\hat{x} + b$ where $\\hat{x} = \\left[\\begin{matrix}x \\\\ 1 \\end{matrix}\\right]$\n",
      "\n",
      "$$l_i = W\\hat{x}$$\n",
      "\n",
      "$$o_i = sigmoid(l_i)$$\n",
      "\n",
      "$$e_i = (y_i - o_i)^2$$\n",
      "\n",
      "We want to compute the derivative of $e_i$ w.r.t $W$. From the [chain rule](http://en.wikipedia.org/wiki/Chain_rule), we have\n",
      "\n",
      "\n",
      "$$\\frac{\\partial e_i}{\\partial W} = \\frac{\\partial e_i}{\\partial o_i} \\frac{\\partial o_i}{\\partial l_i} \\frac{\\partial l_i}{\\partial W}$$\n",
      "\n",
      "With\n",
      "$$\\frac{\\partial e_i}{\\partial o_i} = -2(y_i - o_i)$$\n",
      "$$\\frac{\\partial o_i}{\\partial l_i} = sigmoid(l_i)(1 - sigmoid(l_i))$$\n",
      "$$\\frac{\\partial l_i}{\\partial W} = \\hat{x}$$\n",
      "\n",
      "Which gives us\n",
      "\n",
      "$$\\frac{\\partial e_i}{\\partial W} = -2(y_i - o_i) sigmoid(l_i)(1 - sigmoid(l_i)) \\hat{x}$$\n",
      "\n",
      "Which we use to update our weights at each step of gradient descent :\n",
      "\n",
      "$$W^{t+1} = W^t - \\frac{\\partial e_i}{\\partial W}$$"
     ]
    },
    {
     "cell_type": "code",
     "collapsed": false,
     "input": [
      "# number of features\n",
      "X_dim = 2\n",
      "\n",
      "# weights\n",
      "W_init = 2 * (np.random.random(X_dim) - 0.5)\n",
      "W = theano.shared(\n",
      "    value=W_init.reshape(1, -1),\n",
      "    name='W',\n",
      "    borrow=True\n",
      ")\n",
      "\n",
      "# bias\n",
      "b_init = 2 * (np.random.random() - 0.5)\n",
      "b = theano.shared(\n",
      "    value = b_init,\n",
      "    name='b',\n",
      ")\n",
      "\n",
      "# data matrix\n",
      "X = T.matrix('X')\n",
      "# labels vector\n",
      "y = T.vector('y')\n",
      "\n",
      "y_pred = T.nnet.sigmoid(T.dot(W, X.T) + b)\n",
      "\n",
      "error = T.mean(T.sqr(y - y_pred))\n",
      "\n",
      "# compilation\n",
      "y_pred_fn = theano.function(\n",
      "    inputs=[X],\n",
      "    outputs=y_pred\n",
      ")\n",
      "\n",
      "error_fn = theano.function(\n",
      "    inputs=[X, y],\n",
      "    outputs=error\n",
      ")\n"
     ],
     "language": "python",
     "metadata": {},
     "outputs": [],
     "prompt_number": 12
    },
    {
     "cell_type": "code",
     "collapsed": false,
     "input": [
      "# You can explore the computation graph as follow :\n",
      "if False:\n",
      "    show_computation_graph(error)"
     ],
     "language": "python",
     "metadata": {},
     "outputs": [],
     "prompt_number": 13
    },
    {
     "cell_type": "code",
     "collapsed": false,
     "input": [
      "# A forward pass through our perceptron\n",
      "error_fn(X=[[0, 1], [0, 2], [3, 4]], y=[0, 1, 2])"
     ],
     "language": "python",
     "metadata": {},
     "outputs": [
      {
       "metadata": {},
       "output_type": "pyout",
       "prompt_number": 14,
       "text": [
        "array(0.6122508120421363)"
       ]
      }
     ],
     "prompt_number": 14
    },
    {
     "cell_type": "code",
     "collapsed": false,
     "input": [
      "# For backprop, we need the gradient with regard to our weights and bias\n",
      "g_W = T.grad(cost=error, wrt=W)\n",
      "g_b = T.grad(cost=error, wrt=b)"
     ],
     "language": "python",
     "metadata": {},
     "outputs": [],
     "prompt_number": 15
    },
    {
     "cell_type": "code",
     "collapsed": false,
     "input": [
      "# We can compute the gradient wrt the weights as follow\n",
      "g_W_fn = theano.function(\n",
      "    inputs=[X, y],\n",
      "    outputs=g_W\n",
      ")\n",
      "\n",
      "# Gradient for X=[0, 1] and y=0\n",
      "g_W_fn(X=[[0, 1]], y=[0])"
     ],
     "language": "python",
     "metadata": {},
     "outputs": [
      {
       "metadata": {},
       "output_type": "pyout",
       "prompt_number": 16,
       "text": [
        "array([[ 0.     ,  0.25106]])"
       ]
      }
     ],
     "prompt_number": 16
    },
    {
     "cell_type": "code",
     "collapsed": false,
     "input": [
      "# same for bias\n",
      "g_b_fn = theano.function(\n",
      "    inputs=[X, y],\n",
      "    outputs=g_b\n",
      ")"
     ],
     "language": "python",
     "metadata": {},
     "outputs": [],
     "prompt_number": 17
    },
    {
     "cell_type": "markdown",
     "metadata": {},
     "source": [
      "We can check that theano's computed gradient match the derivation we made by hand.\n",
      "\n",
      "Note that this seems to run into numerical accuracy issues."
     ]
    },
    {
     "cell_type": "code",
     "collapsed": false,
     "input": [
      "def sigmoid(x):\n",
      "    return 1 / (1 + np.exp(-x))\n",
      "\n",
      "def my_grad(X, y, W, b):\n",
      "    o = sigmoid(W.dot(X) + b)\n",
      "    # The last X is the derivative of o wrt X, which is X\n",
      "    gW = -2*(y - o)*sigmoid(o)*(1 - sigmoid(o))*X\n",
      "    # The last 1 is the derivative of o wrt b, which is 1\n",
      "    gb = -2*(y - o)*sigmoid(o)*(1 - sigmoid(o))*1\n",
      "    \n",
      "    return gW, gb\n",
      "\n",
      "X1 = np.array([0, 1], dtype=np.float32)\n",
      "y1 = np.array([0], dtype=np.float32)\n",
      "print my_grad(X1, y1, W.get_value(), b.get_value())\n",
      "print g_W_fn([X1], y1), g_b_fn([X1], y1)\n",
      "\n",
      "print '--'\n",
      "X1 = np.array([-0.2, 0.7], dtype=np.float32)\n",
      "y1 = np.array([0.5], dtype=np.float32)\n",
      "print my_grad(X1, y1, W.get_value(), b.get_value())\n",
      "print g_W_fn([X1], y1), g_b_fn([X1], y1)"
     ],
     "language": "python",
     "metadata": {},
     "outputs": [
      {
       "output_type": "stream",
       "stream": "stdout",
       "text": [
        "(array([ 0.     ,  0.34447]), array([ 0.34447]))\n",
        "[[ 0.       0.25106]] 0.251059378185\n",
        "--\n",
        "(array([-0.02443,  0.08551]), array([ 0.12215]))\n",
        "[[-0.01924  0.06733]] 0.0961838935172\n"
       ]
      }
     ],
     "prompt_number": 18
    },
    {
     "cell_type": "markdown",
     "metadata": {},
     "source": [
      "We could use g_W_fn to loop over our samples and update our weights. But theano has a nice *updates* parameters that you can give to the *theano.function*. It specifies which variables should be updated and how."
     ]
    },
    {
     "cell_type": "code",
     "collapsed": false,
     "input": [
      "learning_rate = 1\n",
      "updates = [\n",
      "    (W, W - learning_rate * g_W),\n",
      "    (b, b - learning_rate * g_b)\n",
      "]\n",
      "\n",
      "train_model = theano.function(\n",
      "    inputs=[X, y],\n",
      "    outputs=error,\n",
      "    updates=updates\n",
      ")\n",
      "\n",
      "predict = theano.function(\n",
      "    inputs=[X],\n",
      "    outputs=y_pred\n",
      ")"
     ],
     "language": "python",
     "metadata": {},
     "outputs": [],
     "prompt_number": 19
    },
    {
     "cell_type": "code",
     "collapsed": false,
     "input": [
      "W.set_value([[0.5, 0.5]])\n",
      "b.set_value(0)\n",
      "\n",
      "X1 = np.array([[0, 1]], dtype=np.float32)\n",
      "y1 = np.array([0], dtype=np.float32)\n",
      "print \"prediction        \", predict(X1)\n",
      "for i in xrange(5):\n",
      "    print '---- iteration', i\n",
      "    print \"W, b before       \", W.get_value(), b.get_value()\n",
      "    print \"gradient wrt W, b \", g_W_fn(X=X1, y=y1), g_b_fn(X=X1, y=y1)\n",
      "    train_model(X=X1, y=y1)\n",
      "    print \"W, b after updates\", W.get_value(), b.get_value()\n",
      "    print \"prediction        \", predict(X1)"
     ],
     "language": "python",
     "metadata": {},
     "outputs": [
      {
       "output_type": "stream",
       "stream": "stdout",
       "text": [
        "prediction         [[ 0.62246]]\n",
        "---- iteration 0\n",
        "W, b before        [[ 0.5  0.5]] 0.0\n",
        "gradient wrt W, b  [[ 0.       0.29256]] 0.292560507054\n",
        "W, b after updates [[ 0.5      0.20744]] -0.292560507054\n",
        "prediction         [[ 0.47873]]\n",
        "---- iteration 1\n",
        "W, b before        [[ 0.5      0.20744]] -0.292560507054\n",
        "gradient wrt W, b  [[ 0.       0.23893]] 0.238933228816\n",
        "W, b after updates [[ 0.5     -0.03149]] -0.53149373587\n",
        "prediction         [[ 0.36286]]\n",
        "---- iteration 2\n",
        "W, b before        [[ 0.5     -0.03149]] -0.53149373587\n",
        "gradient wrt W, b  [[ 0.       0.16778]] 0.167778792514\n",
        "W, b after updates [[ 0.5     -0.19927]] -0.699272528385\n",
        "prediction         [[ 0.28935]]\n",
        "---- iteration 3\n",
        "W, b before        [[ 0.5     -0.19927]] -0.699272528385\n",
        "gradient wrt W, b  [[ 0.     0.119]] 0.118995825535\n",
        "W, b after updates [[ 0.5     -0.31827]] -0.818268353919\n",
        "prediction         [[ 0.24296]]\n",
        "---- iteration 4\n",
        "W, b before        [[ 0.5     -0.31827]] -0.818268353919\n",
        "gradient wrt W, b  [[ 0.       0.08937]] 0.0893734977481\n",
        "W, b after updates [[ 0.5     -0.40764]] -0.907641851668\n",
        "prediction         [[ 0.2116]]\n"
       ]
      }
     ],
     "prompt_number": 20
    },
    {
     "cell_type": "markdown",
     "metadata": {},
     "source": [
      "### Important note\n",
      "\n",
      "Note that this is a naive implementation and it will suffer from one major problem if ran onto the GPU : the data (X) will be uploaded to the GPU on every call to our functions. This will most likely using the GPU will be slower than a CPU for this particular implementation.\n",
      "\n",
      "Of course, Theano allows you to avoid this and upload your data once to the GPU. The [logistic regression theano tutorial](http://deeplearning.net/tutorial/logreg.html) is a good reference for how to do minibatch training with the data in GPU memory. The key is to upload X and y once and then simply provide the index of the sample as an argument to our various functions."
     ]
    },
    {
     "cell_type": "markdown",
     "metadata": {},
     "source": [
      "### Let's put everything in a class"
     ]
    },
    {
     "cell_type": "markdown",
     "metadata": {},
     "source": [
      "This is a perceptron class that contains the same code as above, for ease-of-reuse"
     ]
    },
    {
     "cell_type": "code",
     "collapsed": false,
     "input": [
      "class Perceptron(object):\n",
      "    def __init__(self, X_dim, learning_rate=0.2):\n",
      "        # theano variable definitions\n",
      "        W_init = (2 * np.random.random(X_dim)) * 0.25\n",
      "        self.W = theano.shared(\n",
      "            value=W_init.reshape(1, -1),\n",
      "            name='W',\n",
      "            borrow=True\n",
      "        )\n",
      "        b_init = (2 * np.random.random()) * 0.25\n",
      "        self.b = theano.shared(\n",
      "            value = b_init,\n",
      "            name='b',\n",
      "        )\n",
      "\n",
      "        self.X = T.matrix('X')\n",
      "        self.y = T.vector('y')\n",
      "\n",
      "        self.y_pred = T.nnet.sigmoid(T.dot(self.W, self.X.T) + self.b)\n",
      "\n",
      "        self.error = T.mean(T.sqr(self.y - self.y_pred))\n",
      "        \n",
      "        self.g_W = T.grad(cost=self.error, wrt=self.W)\n",
      "        self.g_b = T.grad(cost=self.error, wrt=self.b)\n",
      "        \n",
      "        # theano functions\n",
      "        self.predict_fn = theano.function(\n",
      "            inputs=[self.X],\n",
      "            outputs=self.y_pred\n",
      "        )\n",
      "        \n",
      "        self.error_fn = theano.function(\n",
      "            inputs=[self.X, self.y],\n",
      "            outputs=self.error\n",
      "        )\n",
      "        \n",
      "        updates = [\n",
      "            (self.W, self.W - learning_rate * self.g_W),\n",
      "            (self.b, self.b - learning_rate * self.g_b)\n",
      "        ]\n",
      "\n",
      "        self.train_model_fn = theano.function(\n",
      "            inputs=[self.X, self.y],\n",
      "            outputs=self.error,\n",
      "            updates=updates\n",
      "        )\n",
      "        \n",
      "        # non-theano stuff\n",
      "        self.train_errors = []\n",
      "        self.validation_errors = []\n",
      "        \n",
      "    def train_gd(self, X_train, y_train, X_validation, y_validation, epochs=10):\n",
      "        \"\"\"Simple gradient descent training\"\"\"\n",
      "        assert len(X_train.shape) == 2, \"X must be 2D\"\n",
      "        \n",
      "        for epoch in range(epochs):\n",
      "            # This does forward propagation, gradient computation and weights\n",
      "            # update all in one\n",
      "            self.train_model_fn(X_train, y_train)\n",
      "            \n",
      "            # evaluate train/validation errors\n",
      "            self.train_errors.append(\n",
      "                self.error_fn(X_train, y_train)\n",
      "            )\n",
      "            self.validation_errors.append(\n",
      "                self.error_fn(X_validation, y_validation)\n",
      "            )\n",
      "        \n",
      "        return self\n",
      "                    \n",
      "    def predict(self, X):\n",
      "        \"\"\"Binary (0, 1) prediction\"\"\"\n",
      "        return self.predict_fn(X).astype(np.int)\n",
      "\n",
      "    def decision_function(self, X):\n",
      "        \"\"\"Float [0,1] prediction\"\"\"\n",
      "        return self.predict_fn(X)"
     ],
     "language": "python",
     "metadata": {},
     "outputs": [],
     "prompt_number": 21
    },
    {
     "cell_type": "markdown",
     "metadata": {},
     "source": [
      "## Generate a toy dataset and test"
     ]
    },
    {
     "cell_type": "code",
     "collapsed": false,
     "input": [
      "def dataset_fixed_cov():\n",
      "    \"\"\"Generate 2 Gaussians samples with the same covariance matrix\"\"\"\n",
      "    n, dim = 300, 2\n",
      "    np.random.seed(42)\n",
      "    C = np.array([[0., -0.23], [0.83, .23]])\n",
      "    X = np.r_[np.dot(np.random.randn(n, dim), C),\n",
      "              np.dot(np.random.randn(n, dim), C) + np.array([1, 1])]\n",
      "    y = np.hstack((np.zeros(n), np.ones(n))).astype(np.int)\n",
      "    X = X.astype(np.float32)\n",
      "    y = y.astype(np.float32)\n",
      "    return X, y\n",
      "\n",
      "X, y = dataset_fixed_cov()\n",
      "\n",
      "print X"
     ],
     "language": "python",
     "metadata": {},
     "outputs": [
      {
       "output_type": "stream",
       "stream": "stdout",
       "text": [
        "[[-0.11476 -0.14605]\n",
        " [ 1.26411  0.20133]\n",
        " [-0.19433  0.     ]\n",
        " ..., \n",
        " [ 1.36559  1.4677 ]\n",
        " [ 1.45857  1.13159]\n",
        " [ 2.13224  1.26225]]\n"
       ]
      }
     ],
     "prompt_number": 22
    },
    {
     "cell_type": "code",
     "collapsed": false,
     "input": [
      "pl.scatter(X[y==0, 0], X[y==0, 1], c='r')\n",
      "pl.scatter(X[y==1, 0], X[y==1, 1], c='b')"
     ],
     "language": "python",
     "metadata": {},
     "outputs": [
      {
       "metadata": {},
       "output_type": "pyout",
       "prompt_number": 23,
       "text": [
        "<matplotlib.collections.PathCollection at 0x7f97d29e03d0>"
       ]
      },
      {
       "metadata": {},
       "output_type": "display_data",
       "png": "[encoded data removed]",
       "text": [
        "<matplotlib.figure.Figure at 0x7f97d30aaa90>"
       ]
      }
     ],
     "prompt_number": 23
    },
    {
     "cell_type": "code",
     "collapsed": false,
     "input": [
      "X_train, X_validation, y_train, y_validation = skcross.train_test_split(X, y, test_size=0.33, random_state=20)\n",
      "perceptron = Perceptron(X.shape[1], learning_rate=0.2)\n",
      "perceptron.train_gd(X_train, y_train, X_validation, y_validation, epochs=800)\n",
      "#perceptron.train_minisgd(X_train, y_train, X_validation, y_validation, epochs=500, minibatch_size=10)"
     ],
     "language": "python",
     "metadata": {},
     "outputs": [
      {
       "metadata": {},
       "output_type": "pyout",
       "prompt_number": 24,
       "text": [
        "<__main__.Perceptron at 0x7f97d46171d0>"
       ]
      }
     ],
     "prompt_number": 24
    },
    {
     "cell_type": "code",
     "collapsed": false,
     "input": [
      "pl.plot(perceptron.train_errors, label='train')\n",
      "pl.plot(perceptron.validation_errors, label='validation')\n",
      "pl.legend()"
     ],
     "language": "python",
     "metadata": {},
     "outputs": [
      {
       "metadata": {},
       "output_type": "pyout",
       "prompt_number": 25,
       "text": [
        "<matplotlib.legend.Legend at 0x7f97d20d9810>"
       ]
      },
      {
       "metadata": {},
       "output_type": "display_data",
       "png": "[encoded data removed]",
       "text": [
        "<matplotlib.figure.Figure at 0x7f97d25a2910>"
       ]
      }
     ],
     "prompt_number": 25
    },
    {
     "cell_type": "code",
     "collapsed": false,
     "input": [
      "from mpl_toolkits.axes_grid1 import make_axes_locatable\n",
      "import matplotlib.gridspec as gridspec\n",
      "\n",
      "def show_decision_boundary(clf, X, y, subplot_spec=None):\n",
      "    \"\"\"\n",
      "    Utility function to plot the decision function of a classifier\n",
      "    \"\"\"\n",
      "    assert X.shape[1] == 2\n",
      "    wratio = (15, 1)\n",
      "    if subplot_spec is None:\n",
      "        gs = gridspec.GridSpec(1,2, width_ratios=wratio)\n",
      "    else:\n",
      "        gs = gridspec.GridSpecFromSubplotSpec(1, 2, subplot_spec=subplot_spec, width_ratios=wratio)\n",
      "        \n",
      "    ax = pl.subplot(gs[0])\n",
      "    ax.set_title('Dataset and decision function')\n",
      "    \n",
      "    x_min, x_max = X[:,0].min() - 1, X[:,0].max() + 1\n",
      "    y_min, y_max = X[:,1].min() - 1, X[:,1].max() + 1\n",
      "    h = 0.2 # step size in the meshgrid\n",
      "    xx, yy = np.meshgrid(np.arange(x_min, x_max, h),\n",
      "                         np.arange(y_min, y_max, h))\n",
      "    xx = xx.astype(np.float32)\n",
      "    yy = yy.astype(np.float32)\n",
      "\n",
      "    Z = clf.decision_function(np.c_[xx.ravel(), yy.ravel()])\n",
      "    Z = Z.reshape(xx.shape)\n",
      "    ctr = ax.contourf(xx, yy, Z, cmap=cm.gray, vmin=0, vmax=1)\n",
      "    \n",
      "    unique_labels = np.unique(y)\n",
      "    colors = cm.Paired(np.linspace(0, 1, num=len(unique_labels)))\n",
      "    for i, yi in enumerate(unique_labels):\n",
      "        color = colors[i]\n",
      "        ax.scatter(X[y == yi, 0], X[y == yi, 1], c=color, linewidth=0, label='%d' % yi)\n",
      "    ax.legend()\n",
      "    ax.set_xlim((x_min, x_max))\n",
      "    ax.set_ylim((y_min, y_max))\n",
      "\n",
      "    pl.colorbar(ctr, cax=pl.subplot(gs[1]))\n",
      "\n",
      "show_decision_boundary(perceptron, X, y)"
     ],
     "language": "python",
     "metadata": {},
     "outputs": [
      {
       "metadata": {},
       "output_type": "display_data",
       "png": "[encoded data removed]",
       "text": [
        "<matplotlib.figure.Figure at 0x7f97d200a6d0>"
       ]
      }
     ],
     "prompt_number": 26
    },
    {
     "cell_type": "markdown",
     "metadata": {},
     "source": [
      "## Making a video of the training\n"
     ]
    },
    {
     "cell_type": "code",
     "collapsed": false,
     "input": [
      "import matplotlib.animation as manimation\n",
      "from tempfile import NamedTemporaryFile\n",
      "from matplotlib.legend_handler import HandlerLine2D\n",
      "\n",
      "# Depending on your environment, you might have to use any of the 2 following\n",
      "AVConvWriter = manimation.writers['ffmpeg'] # or 'avconv' if you're on ubuntu\n",
      "metadata = dict(title='Perceptron training', artist='',comment='')\n",
      "writer = AVConvWriter(fps=4, metadata=metadata, codec=\"libx264\", extra_args=['-vcodec', 'libx264'])\n",
      "\n",
      "#writer = manimation.FFMpegFileWriter(fps=4)\n",
      "\n",
      "perceptron = Perceptron(X.shape[1])\n",
      "\n",
      "fig = pl.figure(figsize=(10, 5))\n",
      "gs = gridspec.GridSpec(1, 2, wspace=0.4)\n",
      "\n",
      "#nepochs = 800\n",
      "nepochs = 100\n",
      "\n",
      "err_ymax = None\n",
      "\n",
      "with NamedTemporaryFile(suffix='.mp4') as f:\n",
      "    with writer.saving(fig, f.name, 100):\n",
      "        for epoch in xrange(nepochs):\n",
      "            perceptron.train_gd(X_train, y_train, X_validation, y_validation, epochs=1)\n",
      "            #perceptron.train_minisgd(X_train, y_train, X_validation, y_validation, epochs=1, minibatch_size=10)\n",
      "\n",
      "            if err_ymax is None:\n",
      "                err_ymax = max(np.max(perceptron.train_errors),\n",
      "                               np.max(perceptron.validation_errors)) * 1.1\n",
      "\n",
      "            if epoch % 10 == 0: # Capturing all 800 epochs takes forever...\n",
      "                show_decision_boundary(perceptron, X, y, gs[0])\n",
      "\n",
      "                ax = pl.subplot(gs[1])\n",
      "                pl.title('Error')\n",
      "                line_train, = ax.plot(np.array(perceptron.train_errors), c='b', label='train')\n",
      "                line_valid, = ax.plot(np.array(perceptron.validation_errors), c='g', label='validation')\n",
      "                ax.set_xlim(0, nepochs)\n",
      "                ax.set_ylim(0, err_ymax)\n",
      "                ax.set_xlabel('epochs')\n",
      "                ax.set_ylabel('error')\n",
      "                ax.legend((line_train, line_valid), ('train', 'validation'))\n",
      "\n",
      "                writer.grab_frame()\n",
      "            \n",
      "    video = open(f.name, \"rb\").read()"
     ],
     "language": "python",
     "metadata": {},
     "outputs": []
    },
    {
     "cell_type": "code",
     "collapsed": false,
     "input": [
      "from IPython.display import HTML\n",
      "\n",
      "VIDEO_TAG = \"\"\"<video style=\"width:80%\" controls>\n",
      " <source src=\"data:video/x-m4v;base64,{0}\" type=\"video/mp4\">\n",
      " Your browser does not support the video tag.\n",
      "</video>\"\"\"\n",
      "\n",
      "HTML(data=VIDEO_TAG.format(video.encode(\"base64\")))"
     ],
     "language": "python",
     "metadata": {},
     "outputs": []
    },
    {
     "cell_type": "markdown",
     "metadata": {},
     "source": [
      "## Interesting links\n",
      "\n",
      "Tutorials :\n",
      "\n",
      "[Theano tutorials](http://deeplearning.net/software/theano/tutorial/)\n",
      "\n",
      "[Deep learning tutorials using Theano](http://deeplearning.net/tutorial/contents.html)\n",
      "\n",
      "Deep learning libraries using theano :\n",
      "\n",
      "[Lasagne](https://github.com/Lasagne/Lasagne)\n",
      "\n",
      "[Blocks](https://github.com/bartvm/blocks)\n",
      "\n",
      "[pylearn2](http://deeplearning.net/software/pylearn2/)\n",
      "\n",
      "General deep learning :\n",
      "\n",
      "[Reading recommendations](http://deeplearning.net/reading-list/)\n",
      "\n",
      "[Software](http://deeplearning.net/software_links/)\n",
      "\n",
      "[Stanford course about CNN](http://cs231n.stanford.edu/)\n",
      "\n",
      "Cool demos :\n",
      "\n",
      "[CNN in your browser](http://cs.stanford.edu/people/karpathy/convnetjs/)\n",
      "\n",
      "Misc :\n",
      "\n",
      "[How to access theano generated code](https://groups.google.com/forum/#!topic/theano-users/o-BLhLvnL5s)\n",
      "\n"
     ]
    },
    {
     "cell_type": "markdown",
     "metadata": {},
     "source": [
      "## Additional stuff\n",
      "\n",
      "To add minibatch SGD training to the perceptron, use the following code. Note that since we do more weight updates per epoch (since we update for each minibatch), this requires less epoch to converge.\n",
      "\n",
      "    def train_minisgd(self, X_train, y_train, X_validation, y_validation, epochs=10, minibatch_size=10):\n",
      "        \"\"\"Training with minibatch SGD\"\"\"\n",
      "        assert len(X_train.shape) == 2, \"X must be 2D\"\n",
      "        \n",
      "        for epoch in range(epochs):\n",
      "            minibatch_indices = np.arange(X_train.shape[0])\n",
      "            np.random.shuffle(minibatch_indices)\n",
      "            # for each minibatch, compute gradient of weights\n",
      "            for start in xrange(0, len(minibatch_indices), minibatch_size):\n",
      "                end = start + minibatch_size\n",
      "                indices = minibatch_indices[start:end]\n",
      "                Xb = X_train[indices]\n",
      "                yb = y_train[indices]\n",
      "                \n",
      "                self.train_model_fn(Xb, yb)\n",
      "            \n",
      "            # evaluate train/validation errors\n",
      "            self.train_errors.append(\n",
      "                self.error_fn(X_train, y_train)\n",
      "            )\n",
      "            self.validation_errors.append(\n",
      "                self.error_fn(X_validation, y_validation)\n",
      "            )\n",
      "        \n",
      "        return self"
     ]
    },
    {
     "cell_type": "code",
     "collapsed": false,
     "input": [],
     "language": "python",
     "metadata": {},
     "outputs": []
    }
   ],
   "metadata": {}
  }
 ]
}